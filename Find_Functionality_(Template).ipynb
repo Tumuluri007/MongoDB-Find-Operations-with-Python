{
 "cells": [
  {
   "cell_type": "markdown",
   "id": "e5fbb279",
   "metadata": {},
   "source": [
    "# MongoDB Insert Functionality\n",
    "\n",
    "Go over how to use the various insert functions of the pymongo module. "
   ]
  },
  {
   "cell_type": "markdown",
   "id": "60d041b0",
   "metadata": {},
   "source": [
    "### Import MongoClient instance from pymongo module"
   ]
  },
  {
   "cell_type": "code",
   "execution_count": 1,
   "id": "238478b5",
   "metadata": {},
   "outputs": [],
   "source": [
    "import pymongo \n",
    "from pymongo import MongoClient"
   ]
  },
  {
   "cell_type": "markdown",
   "id": "8cfcc669",
   "metadata": {},
   "source": [
    "### Initalize A Client, Connect To DB, Speicfy Collection"
   ]
  },
  {
   "cell_type": "code",
   "execution_count": 2,
   "id": "06a8d1bd",
   "metadata": {},
   "outputs": [],
   "source": [
    "client = MongoClient(\"localhost\" ,27017)\n",
    "db = client.test\n",
    "users_col = db.testing"
   ]
  },
  {
   "cell_type": "markdown",
   "id": "f5e0e553",
   "metadata": {},
   "source": [
    "### find_one()"
   ]
  },
  {
   "cell_type": "code",
   "execution_count": 4,
   "id": "6ffba480",
   "metadata": {},
   "outputs": [
    {
     "data": {
      "text/plain": [
       "{'_id': ObjectId('66898cc6e05c0b2b54808da8'), 'name': 'pens', 'price': 10.0}"
      ]
     },
     "execution_count": 4,
     "metadata": {},
     "output_type": "execute_result"
    }
   ],
   "source": [
    "users_col.find_one({\"name\":\"pens\"}) "
   ]
  },
  {
   "cell_type": "code",
   "execution_count": 10,
   "id": "bf11ed1f",
   "metadata": {},
   "outputs": [],
   "source": [
    "find_one_res = users_col.find_one({\"name\":\"pens\"})\n"
   ]
  },
  {
   "cell_type": "code",
   "execution_count": 11,
   "id": "5ab841b2",
   "metadata": {},
   "outputs": [
    {
     "data": {
      "text/plain": [
       "ObjectId('66898cc6e05c0b2b54808da8')"
      ]
     },
     "execution_count": 11,
     "metadata": {},
     "output_type": "execute_result"
    }
   ],
   "source": [
    "find_one_res[\"_id\"]"
   ]
  },
  {
   "cell_type": "code",
   "execution_count": 12,
   "id": "86800ea9-7c99-42f4-80a0-0349769efbe5",
   "metadata": {},
   "outputs": [
    {
     "data": {
      "text/plain": [
       "'pens'"
      ]
     },
     "execution_count": 12,
     "metadata": {},
     "output_type": "execute_result"
    }
   ],
   "source": [
    "find_one_res[\"name\"]"
   ]
  },
  {
   "cell_type": "code",
   "execution_count": 13,
   "id": "d000c048-5e1f-4eb4-b580-ae392569002b",
   "metadata": {},
   "outputs": [
    {
     "data": {
      "text/plain": [
       "10.0"
      ]
     },
     "execution_count": 13,
     "metadata": {},
     "output_type": "execute_result"
    }
   ],
   "source": [
    "find_one_res[\"price\"]"
   ]
  },
  {
   "cell_type": "markdown",
   "id": "18866bfa",
   "metadata": {},
   "source": [
    "find() and Cursors"
   ]
  },
  {
   "cell_type": "code",
   "execution_count": 14,
   "id": "39891a14-0abb-49cc-82f7-bd6969c12e0c",
   "metadata": {},
   "outputs": [
    {
     "data": {
      "text/plain": [
       "<pymongo.cursor.Cursor at 0x1f6c64fb700>"
      ]
     },
     "execution_count": 14,
     "metadata": {},
     "output_type": "execute_result"
    }
   ],
   "source": [
    "users_col.find({\"name\":\"pens\"}) "
   ]
  },
  {
   "cell_type": "code",
   "execution_count": 16,
   "id": "df1f36b6-f428-45bb-a95f-978ce265db1d",
   "metadata": {},
   "outputs": [],
   "source": [
    " pen_cursor = users_col.find({\"name\":\"pens\"})"
   ]
  },
  {
   "cell_type": "code",
   "execution_count": 19,
   "id": "ed20031b",
   "metadata": {},
   "outputs": [],
   "source": [
    "for document in pen_cursor:\n",
    "    print(document)"
   ]
  },
  {
   "cell_type": "code",
   "execution_count": 20,
   "id": "7b094cab",
   "metadata": {},
   "outputs": [
    {
     "data": {
      "text/plain": [
       "False"
      ]
     },
     "execution_count": 20,
     "metadata": {},
     "output_type": "execute_result"
    }
   ],
   "source": [
    "pen_cursor.alive"
   ]
  },
  {
   "cell_type": "code",
   "execution_count": 45,
   "id": "eb8232a2",
   "metadata": {},
   "outputs": [],
   "source": [
    " pen_cursor = users_col.find({\"name\":\"pens\"})"
   ]
  },
  {
   "cell_type": "code",
   "execution_count": 49,
   "id": "1a031993",
   "metadata": {},
   "outputs": [
    {
     "data": {
      "text/plain": [
       "True"
      ]
     },
     "execution_count": 49,
     "metadata": {},
     "output_type": "execute_result"
    }
   ],
   "source": [
    "pen_cursor.alive"
   ]
  },
  {
   "cell_type": "code",
   "execution_count": 60,
   "id": "5f42ffb8",
   "metadata": {},
   "outputs": [
    {
     "data": {
      "text/plain": [
       "{'_id': ObjectId('66899416e05c0b2b54808db1'), 'name': 'pens', 'price': 11.5}"
      ]
     },
     "execution_count": 60,
     "metadata": {},
     "output_type": "execute_result"
    }
   ],
   "source": [
    "pen_cursor.next()"
   ]
  },
  {
   "cell_type": "code",
   "execution_count": 61,
   "id": "52100a58",
   "metadata": {},
   "outputs": [
    {
     "data": {
      "text/plain": [
       "False"
      ]
     },
     "execution_count": 61,
     "metadata": {},
     "output_type": "execute_result"
    }
   ],
   "source": [
    "pen_cursor.alive"
   ]
  },
  {
   "cell_type": "code",
   "execution_count": null,
   "id": "e3ecc022",
   "metadata": {},
   "outputs": [],
   "source": []
  },
  {
   "cell_type": "markdown",
   "id": "963b34c2",
   "metadata": {},
   "source": [
    "### sort()"
   ]
  },
  {
   "cell_type": "code",
   "execution_count": 63,
   "id": "27049bfe",
   "metadata": {},
   "outputs": [
    {
     "name": "stdout",
     "output_type": "stream",
     "text": [
      "{'_id': ObjectId('66898fcae05c0b2b54808daa'), 'name': 'jar', 'price': 2.5}\n",
      "{'_id': ObjectId('66898fcae05c0b2b54808da9'), 'name': 'aqua', 'price': 3.5}\n",
      "{'_id': ObjectId('66898cc6e05c0b2b54808da8'), 'name': 'pens', 'price': 10.0}\n",
      "{'_id': ObjectId('6689909ae05c0b2b54808dab'), 'name': 'pens', 'price': 10.0}\n",
      "{'_id': ObjectId('668990f3e05c0b2b54808dac'), 'name': 'pens', 'price': 10.0}\n",
      "{'_id': ObjectId('6689911de05c0b2b54808dad'), 'name': 'pens', 'price': 10.5}\n",
      "{'_id': ObjectId('668992ffe05c0b2b54808dae'), 'name': 'pens', 'price': 10.5}\n",
      "{'_id': ObjectId('668993f5e05c0b2b54808daf'), 'name': 'pens', 'price': 10.5}\n",
      "{'_id': ObjectId('6689940fe05c0b2b54808db0'), 'name': 'pens', 'price': 11.5}\n",
      "{'_id': ObjectId('66899416e05c0b2b54808db1'), 'name': 'pens', 'price': 11.5}\n"
     ]
    }
   ],
   "source": [
    "for docuement in users_col.find({}).sort(\"price\", pymongo.ASCENDING):\n",
    "    print(docuement)"
   ]
  },
  {
   "cell_type": "code",
   "execution_count": 65,
   "id": "29366fdd",
   "metadata": {},
   "outputs": [
    {
     "name": "stdout",
     "output_type": "stream",
     "text": [
      "{'_id': ObjectId('6689940fe05c0b2b54808db0'), 'name': 'pens', 'price': 11.5}\n",
      "{'_id': ObjectId('66899416e05c0b2b54808db1'), 'name': 'pens', 'price': 11.5}\n",
      "{'_id': ObjectId('6689911de05c0b2b54808dad'), 'name': 'pens', 'price': 10.5}\n",
      "{'_id': ObjectId('668992ffe05c0b2b54808dae'), 'name': 'pens', 'price': 10.5}\n",
      "{'_id': ObjectId('668993f5e05c0b2b54808daf'), 'name': 'pens', 'price': 10.5}\n",
      "{'_id': ObjectId('66898cc6e05c0b2b54808da8'), 'name': 'pens', 'price': 10.0}\n",
      "{'_id': ObjectId('6689909ae05c0b2b54808dab'), 'name': 'pens', 'price': 10.0}\n",
      "{'_id': ObjectId('668990f3e05c0b2b54808dac'), 'name': 'pens', 'price': 10.0}\n",
      "{'_id': ObjectId('66898fcae05c0b2b54808da9'), 'name': 'aqua', 'price': 3.5}\n",
      "{'_id': ObjectId('66898fcae05c0b2b54808daa'), 'name': 'jar', 'price': 2.5}\n"
     ]
    }
   ],
   "source": [
    "for docuement in users_col.find({}).sort(\"price\", pymongo.DESCENDING):\n",
    "    print(docuement)"
   ]
  },
  {
   "cell_type": "code",
   "execution_count": 66,
   "id": "4426d062",
   "metadata": {},
   "outputs": [
    {
     "data": {
      "text/plain": [
       "-1"
      ]
     },
     "execution_count": 66,
     "metadata": {},
     "output_type": "execute_result"
    }
   ],
   "source": [
    " pymongo.DESCENDING"
   ]
  },
  {
   "cell_type": "code",
   "execution_count": 67,
   "id": "8265f9d5",
   "metadata": {},
   "outputs": [
    {
     "data": {
      "text/plain": [
       "1"
      ]
     },
     "execution_count": 67,
     "metadata": {},
     "output_type": "execute_result"
    }
   ],
   "source": [
    "pymongo.ASCENDING"
   ]
  },
  {
   "cell_type": "code",
   "execution_count": 68,
   "id": "c4860df5",
   "metadata": {},
   "outputs": [
    {
     "name": "stdout",
     "output_type": "stream",
     "text": [
      "{'_id': ObjectId('66898fcae05c0b2b54808daa'), 'name': 'jar', 'price': 2.5}\n",
      "{'_id': ObjectId('66898fcae05c0b2b54808da9'), 'name': 'aqua', 'price': 3.5}\n",
      "{'_id': ObjectId('66898cc6e05c0b2b54808da8'), 'name': 'pens', 'price': 10.0}\n",
      "{'_id': ObjectId('6689909ae05c0b2b54808dab'), 'name': 'pens', 'price': 10.0}\n",
      "{'_id': ObjectId('668990f3e05c0b2b54808dac'), 'name': 'pens', 'price': 10.0}\n",
      "{'_id': ObjectId('6689911de05c0b2b54808dad'), 'name': 'pens', 'price': 10.5}\n",
      "{'_id': ObjectId('668992ffe05c0b2b54808dae'), 'name': 'pens', 'price': 10.5}\n",
      "{'_id': ObjectId('668993f5e05c0b2b54808daf'), 'name': 'pens', 'price': 10.5}\n",
      "{'_id': ObjectId('6689940fe05c0b2b54808db0'), 'name': 'pens', 'price': 11.5}\n",
      "{'_id': ObjectId('66899416e05c0b2b54808db1'), 'name': 'pens', 'price': 11.5}\n"
     ]
    }
   ],
   "source": [
    "for docuement in users_col.find({}).sort(\"price\", 1):\n",
    "    print(docuement)"
   ]
  },
  {
   "cell_type": "code",
   "execution_count": 74,
   "id": "42b05035",
   "metadata": {},
   "outputs": [
    {
     "name": "stdout",
     "output_type": "stream",
     "text": [
      "{'_id': ObjectId('66898fcae05c0b2b54808daa'), 'name': 'jar', 'price': 2.5}\n",
      "{'_id': ObjectId('66898fcae05c0b2b54808da9'), 'name': 'aqua', 'price': 3.5}\n",
      "{'_id': ObjectId('66898cc6e05c0b2b54808da8'), 'name': 'pens', 'price': 10.0}\n",
      "{'_id': ObjectId('6689909ae05c0b2b54808dab'), 'name': 'pens', 'price': 10.0}\n",
      "{'_id': ObjectId('668990f3e05c0b2b54808dac'), 'name': 'pens', 'price': 10.0}\n",
      "{'_id': ObjectId('6689911de05c0b2b54808dad'), 'name': 'pens', 'price': 10.5}\n",
      "{'_id': ObjectId('668992ffe05c0b2b54808dae'), 'name': 'pens', 'price': 10.5}\n",
      "{'_id': ObjectId('668993f5e05c0b2b54808daf'), 'name': 'pens', 'price': 10.5}\n",
      "{'_id': ObjectId('6689940fe05c0b2b54808db0'), 'name': 'pens', 'price': 11.5}\n",
      "{'_id': ObjectId('66899416e05c0b2b54808db1'), 'name': 'pens', 'price': 11.5}\n"
     ]
    }
   ],
   "source": [
    "for docuement in users_col.find({}).sort([(\"price\" , pymongo.ASCENDING) ,(\"name\" , pymongo.ASCENDING)]):\n",
    "    print(docuement)"
   ]
  },
  {
   "cell_type": "markdown",
   "id": "e07efb52",
   "metadata": {},
   "source": [
    "### skip() and limit()"
   ]
  },
  {
   "cell_type": "code",
   "execution_count": 77,
   "id": "711f746f",
   "metadata": {},
   "outputs": [
    {
     "name": "stdout",
     "output_type": "stream",
     "text": [
      "{'_id': ObjectId('66898cc6e05c0b2b54808da8'), 'name': 'pens', 'price': 10.0}\n",
      "{'_id': ObjectId('66898fcae05c0b2b54808da9'), 'name': 'aqua', 'price': 3.5}\n",
      "{'_id': ObjectId('66898fcae05c0b2b54808daa'), 'name': 'jar', 'price': 2.5}\n",
      "{'_id': ObjectId('6689909ae05c0b2b54808dab'), 'name': 'pens', 'price': 10.0}\n",
      "{'_id': ObjectId('668990f3e05c0b2b54808dac'), 'name': 'pens', 'price': 10.0}\n",
      "{'_id': ObjectId('6689911de05c0b2b54808dad'), 'name': 'pens', 'price': 10.5}\n"
     ]
    }
   ],
   "source": [
    "for docuement in users_col.find({}).limit(6):\n",
    "    print(docuement)"
   ]
  },
  {
   "cell_type": "code",
   "execution_count": 76,
   "id": "55774464",
   "metadata": {},
   "outputs": [
    {
     "name": "stdout",
     "output_type": "stream",
     "text": [
      "{'_id': ObjectId('6689911de05c0b2b54808dad'), 'name': 'pens', 'price': 10.5}\n",
      "{'_id': ObjectId('668992ffe05c0b2b54808dae'), 'name': 'pens', 'price': 10.5}\n",
      "{'_id': ObjectId('668993f5e05c0b2b54808daf'), 'name': 'pens', 'price': 10.5}\n",
      "{'_id': ObjectId('6689940fe05c0b2b54808db0'), 'name': 'pens', 'price': 11.5}\n",
      "{'_id': ObjectId('66899416e05c0b2b54808db1'), 'name': 'pens', 'price': 11.5}\n"
     ]
    }
   ],
   "source": [
    "for docuement in users_col.find({}).skip(5):\n",
    "    print(docuement)"
   ]
  },
  {
   "cell_type": "code",
   "execution_count": null,
   "id": "d7a563b6",
   "metadata": {},
   "outputs": [],
   "source": []
  },
  {
   "cell_type": "markdown",
   "id": "fd76f71a",
   "metadata": {},
   "source": [
    "### cursor.count() vs collection.count_documents()"
   ]
  },
  {
   "cell_type": "code",
   "execution_count": 95,
   "id": "c6eef034",
   "metadata": {},
   "outputs": [],
   "source": [
    "find_query_filter = ({\"name\":\"pens\"})\n",
    "find_cursor = users_col.find(find_query_filter)\n",
    "\n"
   ]
  },
  {
   "cell_type": "code",
   "execution_count": 97,
   "id": "1a0b5b9c",
   "metadata": {},
   "outputs": [
    {
     "data": {
      "text/plain": [
       "8"
      ]
     },
     "execution_count": 97,
     "metadata": {},
     "output_type": "execute_result"
    }
   ],
   "source": [
    "users_col.count_documents(find_query_filter)"
   ]
  },
  {
   "cell_type": "code",
   "execution_count": null,
   "id": "78bfb3f2",
   "metadata": {},
   "outputs": [],
   "source": []
  },
  {
   "cell_type": "raw",
   "id": "52abd26b-a1c4-42ef-8666-718238ee5b47",
   "metadata": {},
   "source": []
  },
  {
   "cell_type": "code",
   "execution_count": null,
   "id": "911c9c62",
   "metadata": {},
   "outputs": [],
   "source": []
  },
  {
   "cell_type": "code",
   "execution_count": null,
   "id": "bd5e9037",
   "metadata": {},
   "outputs": [],
   "source": []
  },
  {
   "cell_type": "markdown",
   "id": "ddc18577",
   "metadata": {},
   "source": [
    "### distinct()"
   ]
  },
  {
   "cell_type": "code",
   "execution_count": 100,
   "id": "b02655a6",
   "metadata": {},
   "outputs": [],
   "source": [
    "products_cursor = users_col.find({})"
   ]
  },
  {
   "cell_type": "code",
   "execution_count": 107,
   "id": "56da82b6",
   "metadata": {},
   "outputs": [
    {
     "data": {
      "text/plain": [
       "['aqua', 'jar', 'pens']"
      ]
     },
     "execution_count": 107,
     "metadata": {},
     "output_type": "execute_result"
    }
   ],
   "source": [
    "products_cursor.distinct(\"name\")"
   ]
  },
  {
   "cell_type": "code",
   "execution_count": null,
   "id": "14f98341",
   "metadata": {},
   "outputs": [],
   "source": []
  },
  {
   "cell_type": "markdown",
   "id": "3cac701b",
   "metadata": {},
   "source": [
    "### Using projection"
   ]
  },
  {
   "cell_type": "code",
   "execution_count": 124,
   "id": "881d37a0",
   "metadata": {},
   "outputs": [],
   "source": [
    "find_projection_cursor = users_col.find({\"name\" : \"pens\"} , {\"_id\": 0 ,\"price\" : 0}) "
   ]
  },
  {
   "cell_type": "code",
   "execution_count": 125,
   "id": "cd9cbd54",
   "metadata": {},
   "outputs": [
    {
     "name": "stdout",
     "output_type": "stream",
     "text": [
      "{'name': 'pens'}\n",
      "{'name': 'pens'}\n",
      "{'name': 'pens'}\n",
      "{'name': 'pens'}\n",
      "{'name': 'pens'}\n",
      "{'name': 'pens'}\n",
      "{'name': 'pens'}\n",
      "{'name': 'pens'}\n"
     ]
    }
   ],
   "source": [
    "for document in find_projection_cursor:\n",
    "    print(document)"
   ]
  },
  {
   "cell_type": "code",
   "execution_count": 123,
   "id": "208e0f55",
   "metadata": {},
   "outputs": [
    {
     "data": {
      "text/plain": [
       "{'name': 'pens'}"
      ]
     },
     "execution_count": 123,
     "metadata": {},
     "output_type": "execute_result"
    }
   ],
   "source": [
    "users_col.find_one({\"name\" : \"pens\"} , {\"_id\": 0 ,\"name\" : 1}) "
   ]
  },
  {
   "cell_type": "code",
   "execution_count": null,
   "id": "dbe54f91-a81f-4fa5-ab4e-4856b4d7a43b",
   "metadata": {},
   "outputs": [],
   "source": []
  },
  {
   "cell_type": "code",
   "execution_count": null,
   "id": "68f3f50d-5b65-481c-982d-bee3aeff9aa3",
   "metadata": {},
   "outputs": [],
   "source": []
  }
 ],
 "metadata": {
  "kernelspec": {
   "display_name": "Python 3 (ipykernel)",
   "language": "python",
   "name": "python3"
  },
  "language_info": {
   "codemirror_mode": {
    "name": "ipython",
    "version": 3
   },
   "file_extension": ".py",
   "mimetype": "text/x-python",
   "name": "python",
   "nbconvert_exporter": "python",
   "pygments_lexer": "ipython3",
   "version": "3.8.19"
  }
 },
 "nbformat": 4,
 "nbformat_minor": 5
}
